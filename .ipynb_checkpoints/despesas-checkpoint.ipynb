{
 "cells": [
  {
   "cell_type": "code",
   "execution_count": 1,
   "metadata": {},
   "outputs": [],
   "source": [
    "\n",
    "import json"
   ]
  },
  {
   "cell_type": "code",
   "execution_count": 5,
   "metadata": {},
   "outputs": [
    {
     "ename": "KeyError",
     "evalue": "0",
     "output_type": "error",
     "traceback": [
      "\u001b[31m---------------------------------------------------------------------------\u001b[39m",
      "\u001b[31mKeyError\u001b[39m                                  Traceback (most recent call last)",
      "\u001b[36mCell\u001b[39m\u001b[36m \u001b[39m\u001b[32mIn[5]\u001b[39m\u001b[32m, line 17\u001b[39m\n\u001b[32m     12\u001b[39m             \u001b[38;5;28;01melse\u001b[39;00m:\n\u001b[32m     13\u001b[39m                 gastos_por_partido[despesa[\u001b[33m'\u001b[39m\u001b[33mnomeParlamentar\u001b[39m\u001b[33m'\u001b[39m]] = valorLiquido\n\u001b[32m---> \u001b[39m\u001b[32m17\u001b[39m \u001b[38;5;28mprint\u001b[39m(\u001b[43mgastos_por_partido\u001b[49m\u001b[43m[\u001b[49m\u001b[32;43m0\u001b[39;49m\u001b[43m]\u001b[49m)\n",
      "\u001b[31mKeyError\u001b[39m: 0"
     ]
    }
   ],
   "source": [
    "gastos_por_partido = {}\n",
    "\n",
    "with open('data/Ano-2025.json', 'r', encoding='utf-8') as file:\n",
    "    response = json.load(file)\n",
    "    data = response['dados']\n",
    "\n",
    "    for despesa in data:\n",
    "        valorLiquido = despesa['valorLiquido']\n",
    "        if despesa['siglaPartido'] == '':\n",
    "            if despesa['nomeParlamentar'] in gastos_por_partido:\n",
    "                gastos_por_partido[despesa['nomeParlamentar']] += valorLiquido\n",
    "            else:\n",
    "                gastos_por_partido[despesa['nomeParlamentar']] = valorLiquido\n",
    "\n",
    "\n",
    "            \n",
    "print(gastos_por_partido)"
   ]
  },
  {
   "cell_type": "code",
   "execution_count": null,
   "metadata": {},
   "outputs": [],
   "source": []
  },
  {
   "cell_type": "code",
   "execution_count": null,
   "metadata": {},
   "outputs": [],
   "source": []
  }
 ],
 "metadata": {
  "kernelspec": {
   "display_name": "open-data-camara-deputados",
   "language": "python",
   "name": "python3"
  },
  "language_info": {
   "codemirror_mode": {
    "name": "ipython",
    "version": 3
   },
   "file_extension": ".py",
   "mimetype": "text/x-python",
   "name": "python",
   "nbconvert_exporter": "python",
   "pygments_lexer": "ipython3",
   "version": "3.12.3"
  }
 },
 "nbformat": 4,
 "nbformat_minor": 4
}
