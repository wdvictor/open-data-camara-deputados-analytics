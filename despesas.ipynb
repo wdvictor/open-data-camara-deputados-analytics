{
 "cells": [
  {
   "cell_type": "code",
   "execution_count": null,
   "metadata": {},
   "outputs": [],
   "source": [
    "\n",
    "import json"
   ]
  },
  {
   "cell_type": "code",
   "execution_count": null,
   "metadata": {},
   "outputs": [],
   "source": [
    "gastos_por_partido = {}\n",
    "\n",
    "with open('data/Ano-2025.json', 'r', encoding='utf-8') as file:\n",
    "    response = json.load(file)\n",
    "    data = response['dados']\n",
    "\n",
    "    for despesa in data:\n",
    "        valorLiquido = despesa['valorLiquido']\n",
    "        if despesa['siglaPartido'] == '':\n",
    "            if despesa['nome'] in gastos_por_partido[despesa['nome']]:\n",
    "                gastos_por_partido[despesa['nome']] += valorLiquido\n",
    "            else:\n",
    "                gastos_por_partido[despesa['nome']] = valorLiquido\n",
    "            \n",
    "            "
   ]
  },
  {
   "cell_type": "code",
   "execution_count": null,
   "metadata": {},
   "outputs": [],
   "source": []
  },
  {
   "cell_type": "code",
   "execution_count": null,
   "metadata": {},
   "outputs": [],
   "source": []
  }
 ],
 "metadata": {
  "kernelspec": {
   "display_name": "open-data-camara-deputados",
   "language": "python",
   "name": "python3"
  },
  "language_info": {
   "codemirror_mode": {
    "name": "ipython",
    "version": 3
   },
   "file_extension": ".py",
   "mimetype": "text/x-python",
   "name": "python",
   "nbconvert_exporter": "python",
   "pygments_lexer": "ipython3",
   "version": "3.12.3"
  }
 },
 "nbformat": 4,
 "nbformat_minor": 2
}
