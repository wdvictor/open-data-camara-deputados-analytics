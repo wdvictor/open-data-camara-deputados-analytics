{
 "cells": [
  {
   "cell_type": "code",
   "execution_count": 2,
   "metadata": {},
   "outputs": [],
   "source": [
    "\n",
    "import json\n",
    "import pandas as pd\n",
    "import matplotlib.pyplot as plt"
   ]
  },
  {
   "cell_type": "code",
   "execution_count": 3,
   "metadata": {},
   "outputs": [
    {
     "name": "stdout",
     "output_type": "stream",
     "text": [
      "[{'LIDERANÇA DO PT': 52091.38, 'LID.GOV-CD': 20523.58, 'LIDERANÇA DO PODEMOS': 14300.0, 'LIDERANÇA DO PSDB': 10418.0, 'LIDERANÇA DO PDT': 8244.0, 'LIDERANÇA DO PSD': 7792.0, 'LIDERANÇA DO UNIÃO BRASIL': 2732.1, 'LIDERANÇA DO PRD': 2200.0, 'LIDERANÇA DO PSOL': 912.88, 'LIDERANÇA DO REPUBLICANOS': 860.17}]\n"
     ]
    }
   ],
   "source": [
    "gastos_por_partido = []\n",
    "\n",
    "with open('data/Ano-2025.json', 'r', encoding='utf-8') as file:\n",
    "    response = json.load(file)\n",
    "    data = response['dados']\n",
    "    despesa_dict = {}\n",
    "    for despesa in data:\n",
    "        valorLiquido = despesa['valorLiquido']\n",
    "        \n",
    "        if despesa['siglaPartido'] == '':\n",
    "            if despesa['nomeParlamentar'] in despesa_dict:\n",
    "                despesa_dict[despesa['nomeParlamentar']] += float(valorLiquido)\n",
    "            else:\n",
    "                despesa_dict[despesa['nomeParlamentar']] = float(valorLiquido)\n",
    "    gastos_por_partido.append(despesa_dict)\n",
    "\n",
    "gastos_por_partidos_ordenados = []\n",
    "for gasto in gastos_por_partido:\n",
    "    gastos_ordenados = dict(sorted(gasto.items(), key=lambda item: item[1], reverse=True))    \n",
    "    gastos_por_partidos_ordenados.append(gastos_ordenados)\n",
    "\n",
    "\n",
    "print(gastos_por_partidos_ordenados)\n"
   ]
  },
  {
   "cell_type": "code",
   "execution_count": null,
   "metadata": {},
   "outputs": [
    {
     "ename": "NameError",
     "evalue": "name 'plt' is not defined",
     "output_type": "error",
     "traceback": [
      "\u001b[31m---------------------------------------------------------------------------\u001b[39m",
      "\u001b[31mNameError\u001b[39m                                 Traceback (most recent call last)",
      "\u001b[36mCell\u001b[39m\u001b[36m \u001b[39m\u001b[32mIn[1]\u001b[39m\u001b[32m, line 1\u001b[39m\n\u001b[32m----> \u001b[39m\u001b[32m1\u001b[39m \u001b[43mplt\u001b[49m.figure(figsize=(\u001b[32m20\u001b[39m, \u001b[32m10\u001b[39m))\n\u001b[32m      3\u001b[39m gastos = gastos_por_partidos_ordenados[\u001b[32m0\u001b[39m]\n\u001b[32m      5\u001b[39m partidos = \u001b[38;5;28mlist\u001b[39m(gasto.keys())\n",
      "\u001b[31mNameError\u001b[39m: name 'plt' is not defined"
     ]
    }
   ],
   "source": [
    "\n",
    "plt.figure(figsize=(20, 10))\n",
    "\n",
    "gastos = gastos_por_partidos_ordenados[0]\n",
    "\n",
    "partidos = list(gasto.keys())\n",
    "partidos2 = [p.replace('LIDERANÇA DO', '') for p in partidos]\n",
    "valores = list(gastos.values())\n",
    "    \n",
    "plt.bar(partidos2, valores,  label=partidos2)\n",
    "\n",
    "plt.xlabel(\"Partidos\")\n",
    "plt.ylabel('Valor gasto')\n",
    "plt.title(\"Gastos por partido (2025)\")\n",
    "\n",
    "plt.grid()\n",
    "\n",
    "plt.show()"
   ]
  },
  {
   "cell_type": "code",
   "execution_count": null,
   "metadata": {},
   "outputs": [],
   "source": []
  }
 ],
 "metadata": {
  "kernelspec": {
   "display_name": "open-data-camara-deputados",
   "language": "python",
   "name": "python3"
  },
  "language_info": {
   "codemirror_mode": {
    "name": "ipython",
    "version": 3
   },
   "file_extension": ".py",
   "mimetype": "text/x-python",
   "name": "python",
   "nbconvert_exporter": "python",
   "pygments_lexer": "ipython3",
   "version": "3.12.3"
  }
 },
 "nbformat": 4,
 "nbformat_minor": 4
}
