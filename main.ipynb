{
 "cells": [
  {
   "cell_type": "code",
   "execution_count": null,
   "metadata": {},
   "outputs": [],
   "source": [
    "import requests\n",
    "import json\n",
    "import os\n",
    "from datetime import datetime"
   ]
  },
  {
   "cell_type": "code",
   "execution_count": null,
   "metadata": {},
   "outputs": [],
   "source": [
    "\n",
    "\n",
    "\n",
    "congress_url = \"https://dadosabertos.camara.leg.br/api/v2/\"\n",
    "current_year = datetime.now().year\n",
    "years = list(range(current_year, 2007, -1))\n",
    "\n",
    "\n",
    "\n",
    "def get_all_congress_members_year(year):\n",
    "    print(f'------------{year}------------')\n",
    "    if not os.path.exists(f'data/deputados-{year}.json'):\n",
    "        all_members_response = requests.get(f'{congress_url}/deputados')\n",
    "\n",
    "        if(all_members_response.status_code == 200):\n",
    "            with open(f'data/deputados-{year}.json', 'w', encoding='utf-8') as file:\n",
    "                json.dump(all_members_response.json(), file, ensure_ascii=False)\n",
    "    else:\n",
    "        print(f'File for year {year} already exists. Exiting')\n",
    "\n"
   ]
  },
  {
   "cell_type": "code",
   "execution_count": 74,
   "metadata": {},
   "outputs": [
    {
     "name": "stdout",
     "output_type": "stream",
     "text": [
      "------------2025------------\n",
      "File for year 2025 already exists. Exiting\n",
      "------------2024------------\n",
      "File for year 2024 already exists. Exiting\n",
      "------------2023------------\n",
      "File for year 2023 already exists. Exiting\n",
      "------------2022------------\n",
      "File for year 2022 already exists. Exiting\n",
      "------------2021------------\n",
      "File for year 2021 already exists. Exiting\n",
      "------------2020------------\n",
      "File for year 2020 already exists. Exiting\n",
      "------------2019------------\n",
      "File for year 2019 already exists. Exiting\n",
      "------------2018------------\n",
      "File for year 2018 already exists. Exiting\n",
      "------------2017------------\n",
      "File for year 2017 already exists. Exiting\n",
      "------------2016------------\n",
      "File for year 2016 already exists. Exiting\n",
      "------------2015------------\n",
      "File for year 2015 already exists. Exiting\n",
      "------------2014------------\n",
      "File for year 2014 already exists. Exiting\n",
      "------------2013------------\n",
      "File for year 2013 already exists. Exiting\n",
      "------------2012------------\n",
      "File for year 2012 already exists. Exiting\n",
      "------------2011------------\n",
      "File for year 2011 already exists. Exiting\n",
      "------------2010------------\n",
      "File for year 2010 already exists. Exiting\n",
      "------------2009------------\n",
      "File for year 2009 already exists. Exiting\n",
      "------------2008------------\n",
      "File for year 2008 already exists. Exiting\n"
     ]
    }
   ],
   "source": [
    "for year in years:\n",
    "    get_all_congress_members_year(year)"
   ]
  },
  {
   "cell_type": "code",
   "execution_count": null,
   "metadata": {},
   "outputs": [
    {
     "name": "stdout",
     "output_type": "stream",
     "text": [
      "512\n"
     ]
    }
   ],
   "source": [
    "political_parties_2008 = {}\n",
    "\n",
    "\n",
    "with open('data/deputados-2008.json', 'r', encoding='utf-8') as file:\n",
    "    data_2008 = json.load(file)\n",
    "    \n",
    "for i in len(data_2008):\n",
    "    political_parties_2008.append()"
   ]
  },
  {
   "cell_type": "code",
   "execution_count": null,
   "metadata": {},
   "outputs": [
    {
     "name": "stdout",
     "output_type": "stream",
     "text": [
      "not in\n"
     ]
    }
   ],
   "source": [
    "dict = {}\n",
    "\n",
    "data = ['pt', 'pt', 'pt', 'pl', 'pl', 'pmdb']\n",
    "\n",
    "for d in len(data):\n",
    "    if d not in dict:\n",
    "        dict[d] = 1\n",
    "    else:\n",
    "        dict[d] = dict[d]+1\n",
    "\n",
    "print(dic)\n"
   ]
  }
 ],
 "metadata": {
  "kernelspec": {
   "display_name": "open-data-camara-deputados",
   "language": "python",
   "name": "python3"
  },
  "language_info": {
   "codemirror_mode": {
    "name": "ipython",
    "version": 3
   },
   "file_extension": ".py",
   "mimetype": "text/x-python",
   "name": "python",
   "nbconvert_exporter": "python",
   "pygments_lexer": "ipython3",
   "version": "3.12.3"
  }
 },
 "nbformat": 4,
 "nbformat_minor": 2
}
